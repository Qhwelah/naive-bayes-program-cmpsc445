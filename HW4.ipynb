{
 "cells": [
  {
   "cell_type": "code",
   "execution_count": 1,
   "id": "228a8451",
   "metadata": {},
   "outputs": [
    {
     "name": "stdout",
     "output_type": "stream",
     "text": [
      "100 4\n"
     ]
    }
   ],
   "source": [
    "\n",
    "#A skeleton for implementing Naive Bayes Classifier in Python.\n",
    "## Author: Md Faisal Kabir\n",
    "## Spring 2025\n",
    "\n",
    "import numpy\n",
    "import random\n",
    "import time\n",
    "\n",
    "# Change these file names to swap programs\n",
    "trainingFile = \"irisTraining.txt\"\n",
    "testingFile = \"irisTesting.txt\"\n",
    "\n",
    "Xtrain = numpy.loadtxt(trainingFile)\n",
    "n = Xtrain.shape[0]\n",
    "d = Xtrain.shape[1]-1\n",
    "print(n, d)\n"
   ]
  },
  {
   "cell_type": "code",
   "execution_count": null,
   "id": "fafbd3c4",
   "metadata": {},
   "outputs": [],
   "source": [
    "#Training... Collect mean and standard deviation for each dimension for each class..\n",
    "#Also, calculate P(C+) and P(C-)\n",
    "\n",
    " "
   ]
  },
  {
   "cell_type": "code",
   "execution_count": null,
   "id": "679c3869",
   "metadata": {},
   "outputs": [],
   "source": [
    "#Testing .....\n",
    "Xtest = numpy.loadtxt(testingFile)\n",
    "nn = Xtest.shape[0] # Number of points in the testing data.\n",
    "\n",
    "tp = 0 #True Positive\n",
    "fp = 0 #False Positive\n",
    "tn = 0 #True Negative\n",
    "fn = 0 #False Negative\n",
    "\n"
   ]
  },
  {
   "cell_type": "code",
   "execution_count": null,
   "id": "b4c54305",
   "metadata": {},
   "outputs": [],
   "source": [
    "#Iterate over all points in testing data\n",
    "  #For each point find the P(C+|Xi) and P(C-|Xi) and decide if the point belongs to C+ or C-..\n",
    "  #Recall we need to calculate P(Xi|C+)*P(C+) ..\n",
    "  #P(Xi|C+) = P(Xi1|C+) * P(Xi2|C+)....P(Xid|C+)....Do the same for P(Xi|C-)\n",
    "  #Now that you've calculate P(Xi|C+) and P(Xi|C-), we can decide which is higher \n",
    "  #P(Xi|C-)*P(C-) or P(Xi|C-)*P(C-) ..\n",
    "  #increment TP,FP,FN,TN accordingly, remember the true lable for the ith point is in Xtest[i,d]\n",
    "\n",
    "#}\n",
    "\n",
    "#Calculate all the measures required.."
   ]
  }
 ],
 "metadata": {
  "kernelspec": {
   "display_name": "base",
   "language": "python",
   "name": "python3"
  },
  "language_info": {
   "codemirror_mode": {
    "name": "ipython",
    "version": 3
   },
   "file_extension": ".py",
   "mimetype": "text/x-python",
   "name": "python",
   "nbconvert_exporter": "python",
   "pygments_lexer": "ipython3",
   "version": "3.12.4"
  }
 },
 "nbformat": 4,
 "nbformat_minor": 5
}
